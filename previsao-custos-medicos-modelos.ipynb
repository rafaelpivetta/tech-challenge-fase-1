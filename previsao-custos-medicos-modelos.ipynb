{
 "cells": [
  {
   "cell_type": "code",
   "execution_count": null,
   "metadata": {},
   "outputs": [],
   "source": [
    "import pandas as pd\n",
    "import numpy as np\n",
    "np.random.seed(42)"
   ]
  },
  {
   "cell_type": "code",
   "execution_count": null,
   "metadata": {},
   "outputs": [],
   "source": [
    "dataset = pd.read_csv(\"insurance.csv\")\n",
    "dataset.head()"
   ]
  },
  {
   "cell_type": "code",
   "execution_count": null,
   "metadata": {},
   "outputs": [],
   "source": [
    "dataset.shape"
   ]
  },
  {
   "cell_type": "code",
   "execution_count": null,
   "metadata": {},
   "outputs": [],
   "source": [
    "dataset.info()"
   ]
  },
  {
   "cell_type": "code",
   "execution_count": null,
   "metadata": {},
   "outputs": [],
   "source": [
    "dataset.describe().T"
   ]
  },
  {
   "cell_type": "markdown",
   "metadata": {},
   "source": [
    "## Label Encoder"
   ]
  },
  {
   "cell_type": "code",
   "execution_count": null,
   "metadata": {},
   "outputs": [],
   "source": [
    "from sklearn.preprocessing import LabelEncoder\n",
    "label_encoder = LabelEncoder()\n",
    "\n",
    "dataset['genero_tipo'] = label_encoder.fit_transform(dataset['gênero'])\n",
    "dataset['fumante_tipo'] = label_encoder.fit_transform(dataset['fumante'])\n",
    "dataset['regiao_tipo'] = label_encoder.fit_transform(dataset['região'])\n",
    "\n",
    "dataset.head()"
   ]
  },
  {
   "cell_type": "code",
   "execution_count": null,
   "metadata": {},
   "outputs": [],
   "source": [
    "dataset_tratado = dataset.drop(columns = [\"fumante\", \"região\", \"gênero\"]).copy()\n",
    "\n",
    "dataset_tratado.head()"
   ]
  },
  {
   "cell_type": "code",
   "execution_count": null,
   "metadata": {},
   "outputs": [],
   "source": [
    "corr_matrix = dataset_tratado.corr()\n",
    "corr_matrix[\"encargos\"].sort_values(ascending=False)"
   ]
  },
  {
   "cell_type": "markdown",
   "metadata": {},
   "source": [
    "## Preparando os dados para colocar no algoritmo"
   ]
  },
  {
   "cell_type": "code",
   "execution_count": null,
   "metadata": {},
   "outputs": [],
   "source": [
    "X = dataset_tratado.drop(\"encargos\", axis=1) # apagando a target para a base de treino (nosso x)\n",
    "y = dataset_tratado[\"encargos\"].copy() #armazenando a target (nosso y)"
   ]
  },
  {
   "cell_type": "code",
   "execution_count": null,
   "metadata": {},
   "outputs": [],
   "source": [
    "from sklearn.model_selection import train_test_split\n",
    "\n",
    "X_train, X_test, y_train, y_test = train_test_split(X, y, test_size=0.2, random_state=42)"
   ]
  },
  {
   "cell_type": "code",
   "execution_count": null,
   "metadata": {},
   "outputs": [],
   "source": [
    "X_train.head()"
   ]
  },
  {
   "cell_type": "code",
   "execution_count": null,
   "metadata": {},
   "outputs": [],
   "source": [
    "from sklearn.linear_model import LinearRegression\n",
    "from sklearn.tree import DecisionTreeRegressor\n",
    "from sklearn.ensemble import RandomForestRegressor\n",
    "from sklearn.metrics import mean_squared_error, mean_absolute_error\n",
    "from sklearn.metrics import r2_score\n",
    "\n",
    "#LinearRegression()\n",
    "modelo = LinearRegression()\n",
    "modelo.fit(X_train, y_train)\n",
    "predictions = modelo.predict(X_test)\n",
    "\n",
    "mae = mean_absolute_error(y_test, predictions)\n",
    "mse = mean_squared_error(y_test, predictions)\n",
    "rmse = np.sqrt(mse)\n",
    "r2 = r2_score(y_test, predictions)\n",
    "\n",
    "errors = np.abs(y_test - predictions)\n",
    "relative_errors = errors / np.abs(y_test)\n",
    "mape = np.mean(relative_errors) * 100\n",
    "print(f\"LinearRegressor: mae {mae}, mse {mse}, rmse {rmse}, r2 {r2}, mape {mape}\")\n",
    "\n",
    "#DecisionTreeRegressor()\n",
    "modelo = DecisionTreeRegressor()\n",
    "modelo.fit(X_train, y_train)\n",
    "predictions = modelo.predict(X_test)\n",
    "\n",
    "mae = mean_absolute_error(y_test, predictions)\n",
    "mse = mean_squared_error(y_test, predictions)\n",
    "rmse = np.sqrt(mse)\n",
    "r2 = r2_score(y_test, predictions)\n",
    "\n",
    "errors = np.abs(y_test - predictions)\n",
    "relative_errors = errors / np.abs(y_test)\n",
    "mape = np.mean(relative_errors) * 100\n",
    "print(f\"DecisionTreeRegressor: mae {mae}, mse {mse}, rmse {rmse}, r2 {r2}, mape {mape}\")\n",
    "\n",
    "#RandomForestRegressor()\n",
    "modelo = RandomForestRegressor()\n",
    "modelo.fit(X_train, y_train)\n",
    "predictions = modelo.predict(X_test)\n",
    "\n",
    "mae = mean_absolute_error(y_test, predictions)\n",
    "mse = mean_squared_error(y_test, predictions)\n",
    "rmse = np.sqrt(mse)\n",
    "r2 = r2_score(y_test, predictions)\n",
    "\n",
    "errors = np.abs(y_test - predictions)\n",
    "relative_errors = errors / np.abs(y_test)\n",
    "mape = np.mean(relative_errors) * 100\n",
    "print(f\"RandomForestRegressor: mae {mae}, mse {mse}, rmse {rmse}, r2 {r2}, mape {mape}\")"
   ]
  }
 ],
 "metadata": {
  "language_info": {
   "name": "python"
  }
 },
 "nbformat": 4,
 "nbformat_minor": 2
}
